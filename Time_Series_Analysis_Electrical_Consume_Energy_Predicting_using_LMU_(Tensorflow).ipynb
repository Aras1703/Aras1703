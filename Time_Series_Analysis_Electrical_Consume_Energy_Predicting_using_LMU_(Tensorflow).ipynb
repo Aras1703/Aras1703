{
  "nbformat": 4,
  "nbformat_minor": 0,
  "metadata": {
    "colab": {
      "name": "Time Series Analysis - Electrical Consume Energy Predicting using LMU (Tensorflow).ipynb",
      "provenance": [],
      "collapsed_sections": [],
      "authorship_tag": "ABX9TyMPCfwn/Jx7E7lgqTVihR3y",
      "include_colab_link": true
    },
    "kernelspec": {
      "name": "python3",
      "display_name": "Python 3"
    },
    "language_info": {
      "name": "python"
    },
    "accelerator": "GPU"
  },
  "cells": [
    {
      "cell_type": "markdown",
      "metadata": {
        "id": "view-in-github",
        "colab_type": "text"
      },
      "source": [
        "<a href=\"https://colab.research.google.com/github/Aras1703/Machine-Learning-Submission/blob/main/Time_Series_Analysis_Electrical_Consume_Energy_Predicting_using_LMU_(Tensorflow).ipynb\" target=\"_parent\"><img src=\"https://colab.research.google.com/assets/colab-badge.svg\" alt=\"Open In Colab\"/></a>"
      ]
    },
    {
      "cell_type": "code",
      "metadata": {
        "colab": {
          "base_uri": "https://localhost:8080/"
        },
        "id": "fmZkhvasmcUT",
        "outputId": "ec93714d-6b4a-48f4-8029-f5b3a12ff9f6"
      },
      "source": [
        "pip install keras_lmu"
      ],
      "execution_count": null,
      "outputs": [
        {
          "output_type": "stream",
          "name": "stdout",
          "text": [
            "Requirement already satisfied: keras_lmu in /usr/local/lib/python3.7/dist-packages (0.4.0)\n",
            "Requirement already satisfied: scipy>=1.0.0 in /usr/local/lib/python3.7/dist-packages (from keras_lmu) (1.4.1)\n",
            "Requirement already satisfied: tensorflow>=2.1.0 in /usr/local/lib/python3.7/dist-packages (from keras_lmu) (2.7.0)\n",
            "Requirement already satisfied: packaging>=20.9 in /usr/local/lib/python3.7/dist-packages (from keras_lmu) (21.3)\n",
            "Requirement already satisfied: pyparsing!=3.0.5,>=2.0.2 in /usr/local/lib/python3.7/dist-packages (from packaging>=20.9->keras_lmu) (3.0.6)\n",
            "Requirement already satisfied: numpy>=1.13.3 in /usr/local/lib/python3.7/dist-packages (from scipy>=1.0.0->keras_lmu) (1.19.5)\n",
            "Requirement already satisfied: h5py>=2.9.0 in /usr/local/lib/python3.7/dist-packages (from tensorflow>=2.1.0->keras_lmu) (3.1.0)\n",
            "Requirement already satisfied: tensorflow-io-gcs-filesystem>=0.21.0 in /usr/local/lib/python3.7/dist-packages (from tensorflow>=2.1.0->keras_lmu) (0.22.0)\n",
            "Requirement already satisfied: protobuf>=3.9.2 in /usr/local/lib/python3.7/dist-packages (from tensorflow>=2.1.0->keras_lmu) (3.17.3)\n",
            "Requirement already satisfied: wrapt>=1.11.0 in /usr/local/lib/python3.7/dist-packages (from tensorflow>=2.1.0->keras_lmu) (1.13.3)\n",
            "Requirement already satisfied: google-pasta>=0.1.1 in /usr/local/lib/python3.7/dist-packages (from tensorflow>=2.1.0->keras_lmu) (0.2.0)\n",
            "Requirement already satisfied: six>=1.12.0 in /usr/local/lib/python3.7/dist-packages (from tensorflow>=2.1.0->keras_lmu) (1.15.0)\n",
            "Requirement already satisfied: libclang>=9.0.1 in /usr/local/lib/python3.7/dist-packages (from tensorflow>=2.1.0->keras_lmu) (12.0.0)\n",
            "Requirement already satisfied: gast<0.5.0,>=0.2.1 in /usr/local/lib/python3.7/dist-packages (from tensorflow>=2.1.0->keras_lmu) (0.4.0)\n",
            "Requirement already satisfied: tensorflow-estimator<2.8,~=2.7.0rc0 in /usr/local/lib/python3.7/dist-packages (from tensorflow>=2.1.0->keras_lmu) (2.7.0)\n",
            "Requirement already satisfied: typing-extensions>=3.6.6 in /usr/local/lib/python3.7/dist-packages (from tensorflow>=2.1.0->keras_lmu) (3.10.0.2)\n",
            "Requirement already satisfied: flatbuffers<3.0,>=1.12 in /usr/local/lib/python3.7/dist-packages (from tensorflow>=2.1.0->keras_lmu) (2.0)\n",
            "Requirement already satisfied: termcolor>=1.1.0 in /usr/local/lib/python3.7/dist-packages (from tensorflow>=2.1.0->keras_lmu) (1.1.0)\n",
            "Requirement already satisfied: absl-py>=0.4.0 in /usr/local/lib/python3.7/dist-packages (from tensorflow>=2.1.0->keras_lmu) (0.12.0)\n",
            "Requirement already satisfied: tensorboard~=2.6 in /usr/local/lib/python3.7/dist-packages (from tensorflow>=2.1.0->keras_lmu) (2.7.0)\n",
            "Requirement already satisfied: astunparse>=1.6.0 in /usr/local/lib/python3.7/dist-packages (from tensorflow>=2.1.0->keras_lmu) (1.6.3)\n",
            "Requirement already satisfied: opt-einsum>=2.3.2 in /usr/local/lib/python3.7/dist-packages (from tensorflow>=2.1.0->keras_lmu) (3.3.0)\n",
            "Requirement already satisfied: keras<2.8,>=2.7.0rc0 in /usr/local/lib/python3.7/dist-packages (from tensorflow>=2.1.0->keras_lmu) (2.7.0)\n",
            "Requirement already satisfied: wheel<1.0,>=0.32.0 in /usr/local/lib/python3.7/dist-packages (from tensorflow>=2.1.0->keras_lmu) (0.37.0)\n",
            "Requirement already satisfied: grpcio<2.0,>=1.24.3 in /usr/local/lib/python3.7/dist-packages (from tensorflow>=2.1.0->keras_lmu) (1.42.0)\n",
            "Requirement already satisfied: keras-preprocessing>=1.1.1 in /usr/local/lib/python3.7/dist-packages (from tensorflow>=2.1.0->keras_lmu) (1.1.2)\n",
            "Requirement already satisfied: cached-property in /usr/local/lib/python3.7/dist-packages (from h5py>=2.9.0->tensorflow>=2.1.0->keras_lmu) (1.5.2)\n",
            "Requirement already satisfied: tensorboard-data-server<0.7.0,>=0.6.0 in /usr/local/lib/python3.7/dist-packages (from tensorboard~=2.6->tensorflow>=2.1.0->keras_lmu) (0.6.1)\n",
            "Requirement already satisfied: google-auth<3,>=1.6.3 in /usr/local/lib/python3.7/dist-packages (from tensorboard~=2.6->tensorflow>=2.1.0->keras_lmu) (1.35.0)\n",
            "Requirement already satisfied: requests<3,>=2.21.0 in /usr/local/lib/python3.7/dist-packages (from tensorboard~=2.6->tensorflow>=2.1.0->keras_lmu) (2.23.0)\n",
            "Requirement already satisfied: setuptools>=41.0.0 in /usr/local/lib/python3.7/dist-packages (from tensorboard~=2.6->tensorflow>=2.1.0->keras_lmu) (57.4.0)\n",
            "Requirement already satisfied: markdown>=2.6.8 in /usr/local/lib/python3.7/dist-packages (from tensorboard~=2.6->tensorflow>=2.1.0->keras_lmu) (3.3.6)\n",
            "Requirement already satisfied: google-auth-oauthlib<0.5,>=0.4.1 in /usr/local/lib/python3.7/dist-packages (from tensorboard~=2.6->tensorflow>=2.1.0->keras_lmu) (0.4.6)\n",
            "Requirement already satisfied: tensorboard-plugin-wit>=1.6.0 in /usr/local/lib/python3.7/dist-packages (from tensorboard~=2.6->tensorflow>=2.1.0->keras_lmu) (1.8.0)\n",
            "Requirement already satisfied: werkzeug>=0.11.15 in /usr/local/lib/python3.7/dist-packages (from tensorboard~=2.6->tensorflow>=2.1.0->keras_lmu) (1.0.1)\n",
            "Requirement already satisfied: pyasn1-modules>=0.2.1 in /usr/local/lib/python3.7/dist-packages (from google-auth<3,>=1.6.3->tensorboard~=2.6->tensorflow>=2.1.0->keras_lmu) (0.2.8)\n",
            "Requirement already satisfied: cachetools<5.0,>=2.0.0 in /usr/local/lib/python3.7/dist-packages (from google-auth<3,>=1.6.3->tensorboard~=2.6->tensorflow>=2.1.0->keras_lmu) (4.2.4)\n",
            "Requirement already satisfied: rsa<5,>=3.1.4 in /usr/local/lib/python3.7/dist-packages (from google-auth<3,>=1.6.3->tensorboard~=2.6->tensorflow>=2.1.0->keras_lmu) (4.7.2)\n",
            "Requirement already satisfied: requests-oauthlib>=0.7.0 in /usr/local/lib/python3.7/dist-packages (from google-auth-oauthlib<0.5,>=0.4.1->tensorboard~=2.6->tensorflow>=2.1.0->keras_lmu) (1.3.0)\n",
            "Requirement already satisfied: importlib-metadata>=4.4 in /usr/local/lib/python3.7/dist-packages (from markdown>=2.6.8->tensorboard~=2.6->tensorflow>=2.1.0->keras_lmu) (4.8.2)\n",
            "Requirement already satisfied: zipp>=0.5 in /usr/local/lib/python3.7/dist-packages (from importlib-metadata>=4.4->markdown>=2.6.8->tensorboard~=2.6->tensorflow>=2.1.0->keras_lmu) (3.6.0)\n",
            "Requirement already satisfied: pyasn1<0.5.0,>=0.4.6 in /usr/local/lib/python3.7/dist-packages (from pyasn1-modules>=0.2.1->google-auth<3,>=1.6.3->tensorboard~=2.6->tensorflow>=2.1.0->keras_lmu) (0.4.8)\n",
            "Requirement already satisfied: certifi>=2017.4.17 in /usr/local/lib/python3.7/dist-packages (from requests<3,>=2.21.0->tensorboard~=2.6->tensorflow>=2.1.0->keras_lmu) (2021.10.8)\n",
            "Requirement already satisfied: idna<3,>=2.5 in /usr/local/lib/python3.7/dist-packages (from requests<3,>=2.21.0->tensorboard~=2.6->tensorflow>=2.1.0->keras_lmu) (2.10)\n",
            "Requirement already satisfied: chardet<4,>=3.0.2 in /usr/local/lib/python3.7/dist-packages (from requests<3,>=2.21.0->tensorboard~=2.6->tensorflow>=2.1.0->keras_lmu) (3.0.4)\n",
            "Requirement already satisfied: urllib3!=1.25.0,!=1.25.1,<1.26,>=1.21.1 in /usr/local/lib/python3.7/dist-packages (from requests<3,>=2.21.0->tensorboard~=2.6->tensorflow>=2.1.0->keras_lmu) (1.24.3)\n",
            "Requirement already satisfied: oauthlib>=3.0.0 in /usr/local/lib/python3.7/dist-packages (from requests-oauthlib>=0.7.0->google-auth-oauthlib<0.5,>=0.4.1->tensorboard~=2.6->tensorflow>=2.1.0->keras_lmu) (3.1.1)\n"
          ]
        }
      ]
    },
    {
      "cell_type": "code",
      "metadata": {
        "id": "ChSZjqvuj1Fp"
      },
      "source": [
        "from datetime import datetime, timedelta\n",
        "from dateutil import parser\n",
        "import numpy as np \n",
        "import pandas as pd\n",
        "import matplotlib.pyplot as plt\n",
        "import seaborn as sns\n",
        "from sklearn.model_selection import train_test_split\n",
        "from sklearn.preprocessing import StandardScaler\n",
        "from sklearn.preprocessing import MinMaxScaler\n",
        "from keras.layers import Dense\n",
        "from keras.models import Sequential\n",
        "from keras_lmu import LMU\n",
        "from datetime import datetime\n",
        "import requests\n",
        "import tensorflow as tf\n",
        "from sklearn.metrics import explained_variance_score\n",
        "from sklearn.metrics import mean_absolute_error\n",
        "from sklearn.metrics import mean_squared_error\n",
        "from sklearn.metrics import r2_score"
      ],
      "execution_count": null,
      "outputs": []
    },
    {
      "cell_type": "code",
      "metadata": {
        "colab": {
          "base_uri": "https://localhost:8080/",
          "height": 424
        },
        "id": "h81JKHMAm0az",
        "outputId": "d60b6bbf-a1fc-40fd-9d82-abe5a1ef31a2"
      },
      "source": [
        "df = pd.read_csv('opsd_germany_daily.csv')\n",
        "df"
      ],
      "execution_count": null,
      "outputs": [
        {
          "output_type": "execute_result",
          "data": {
            "text/html": [
              "<div>\n",
              "<style scoped>\n",
              "    .dataframe tbody tr th:only-of-type {\n",
              "        vertical-align: middle;\n",
              "    }\n",
              "\n",
              "    .dataframe tbody tr th {\n",
              "        vertical-align: top;\n",
              "    }\n",
              "\n",
              "    .dataframe thead th {\n",
              "        text-align: right;\n",
              "    }\n",
              "</style>\n",
              "<table border=\"1\" class=\"dataframe\">\n",
              "  <thead>\n",
              "    <tr style=\"text-align: right;\">\n",
              "      <th></th>\n",
              "      <th>Date</th>\n",
              "      <th>Consumption</th>\n",
              "      <th>Wind</th>\n",
              "      <th>Solar</th>\n",
              "      <th>Wind+Solar</th>\n",
              "    </tr>\n",
              "  </thead>\n",
              "  <tbody>\n",
              "    <tr>\n",
              "      <th>0</th>\n",
              "      <td>1/1/2006</td>\n",
              "      <td>1069.18400</td>\n",
              "      <td>NaN</td>\n",
              "      <td>NaN</td>\n",
              "      <td>NaN</td>\n",
              "    </tr>\n",
              "    <tr>\n",
              "      <th>1</th>\n",
              "      <td>1/2/2006</td>\n",
              "      <td>1380.52100</td>\n",
              "      <td>NaN</td>\n",
              "      <td>NaN</td>\n",
              "      <td>NaN</td>\n",
              "    </tr>\n",
              "    <tr>\n",
              "      <th>2</th>\n",
              "      <td>1/3/2006</td>\n",
              "      <td>1442.53300</td>\n",
              "      <td>NaN</td>\n",
              "      <td>NaN</td>\n",
              "      <td>NaN</td>\n",
              "    </tr>\n",
              "    <tr>\n",
              "      <th>3</th>\n",
              "      <td>1/4/2006</td>\n",
              "      <td>1457.21700</td>\n",
              "      <td>NaN</td>\n",
              "      <td>NaN</td>\n",
              "      <td>NaN</td>\n",
              "    </tr>\n",
              "    <tr>\n",
              "      <th>4</th>\n",
              "      <td>1/5/2006</td>\n",
              "      <td>1477.13100</td>\n",
              "      <td>NaN</td>\n",
              "      <td>NaN</td>\n",
              "      <td>NaN</td>\n",
              "    </tr>\n",
              "    <tr>\n",
              "      <th>...</th>\n",
              "      <td>...</td>\n",
              "      <td>...</td>\n",
              "      <td>...</td>\n",
              "      <td>...</td>\n",
              "      <td>...</td>\n",
              "    </tr>\n",
              "    <tr>\n",
              "      <th>4378</th>\n",
              "      <td>12/27/2017</td>\n",
              "      <td>1263.94091</td>\n",
              "      <td>394.507</td>\n",
              "      <td>16.530</td>\n",
              "      <td>411.037</td>\n",
              "    </tr>\n",
              "    <tr>\n",
              "      <th>4379</th>\n",
              "      <td>12/28/2017</td>\n",
              "      <td>1299.86398</td>\n",
              "      <td>506.424</td>\n",
              "      <td>14.162</td>\n",
              "      <td>520.586</td>\n",
              "    </tr>\n",
              "    <tr>\n",
              "      <th>4380</th>\n",
              "      <td>12/29/2017</td>\n",
              "      <td>1295.08753</td>\n",
              "      <td>584.277</td>\n",
              "      <td>29.854</td>\n",
              "      <td>614.131</td>\n",
              "    </tr>\n",
              "    <tr>\n",
              "      <th>4381</th>\n",
              "      <td>12/30/2017</td>\n",
              "      <td>1215.44897</td>\n",
              "      <td>721.247</td>\n",
              "      <td>7.467</td>\n",
              "      <td>728.714</td>\n",
              "    </tr>\n",
              "    <tr>\n",
              "      <th>4382</th>\n",
              "      <td>12/31/2017</td>\n",
              "      <td>1107.11488</td>\n",
              "      <td>721.176</td>\n",
              "      <td>19.980</td>\n",
              "      <td>741.156</td>\n",
              "    </tr>\n",
              "  </tbody>\n",
              "</table>\n",
              "<p>4383 rows × 5 columns</p>\n",
              "</div>"
            ],
            "text/plain": [
              "            Date  Consumption     Wind   Solar  Wind+Solar\n",
              "0       1/1/2006   1069.18400      NaN     NaN         NaN\n",
              "1       1/2/2006   1380.52100      NaN     NaN         NaN\n",
              "2       1/3/2006   1442.53300      NaN     NaN         NaN\n",
              "3       1/4/2006   1457.21700      NaN     NaN         NaN\n",
              "4       1/5/2006   1477.13100      NaN     NaN         NaN\n",
              "...          ...          ...      ...     ...         ...\n",
              "4378  12/27/2017   1263.94091  394.507  16.530     411.037\n",
              "4379  12/28/2017   1299.86398  506.424  14.162     520.586\n",
              "4380  12/29/2017   1295.08753  584.277  29.854     614.131\n",
              "4381  12/30/2017   1215.44897  721.247   7.467     728.714\n",
              "4382  12/31/2017   1107.11488  721.176  19.980     741.156\n",
              "\n",
              "[4383 rows x 5 columns]"
            ]
          },
          "metadata": {},
          "execution_count": 6
        }
      ]
    },
    {
      "cell_type": "code",
      "metadata": {
        "colab": {
          "base_uri": "https://localhost:8080/",
          "height": 646
        },
        "id": "RkU6aLRLnHww",
        "outputId": "eb05dc18-40e8-4499-fbef-0f15e25648fc"
      },
      "source": [
        "df = df[['Date', 'Consumption']]\n",
        "df['Date'] = pd.to_datetime(df['Date'])\n",
        "df.set_index(df['Date'],inplace=True)\n",
        "df.drop(columns='Date', axis=1, inplace=True)\n",
        "df"
      ],
      "execution_count": null,
      "outputs": [
        {
          "output_type": "stream",
          "name": "stderr",
          "text": [
            "/usr/local/lib/python3.7/dist-packages/ipykernel_launcher.py:2: SettingWithCopyWarning: \n",
            "A value is trying to be set on a copy of a slice from a DataFrame.\n",
            "Try using .loc[row_indexer,col_indexer] = value instead\n",
            "\n",
            "See the caveats in the documentation: https://pandas.pydata.org/pandas-docs/stable/user_guide/indexing.html#returning-a-view-versus-a-copy\n",
            "  \n",
            "/usr/local/lib/python3.7/dist-packages/pandas/core/frame.py:4174: SettingWithCopyWarning: \n",
            "A value is trying to be set on a copy of a slice from a DataFrame\n",
            "\n",
            "See the caveats in the documentation: https://pandas.pydata.org/pandas-docs/stable/user_guide/indexing.html#returning-a-view-versus-a-copy\n",
            "  errors=errors,\n"
          ]
        },
        {
          "output_type": "execute_result",
          "data": {
            "text/html": [
              "<div>\n",
              "<style scoped>\n",
              "    .dataframe tbody tr th:only-of-type {\n",
              "        vertical-align: middle;\n",
              "    }\n",
              "\n",
              "    .dataframe tbody tr th {\n",
              "        vertical-align: top;\n",
              "    }\n",
              "\n",
              "    .dataframe thead th {\n",
              "        text-align: right;\n",
              "    }\n",
              "</style>\n",
              "<table border=\"1\" class=\"dataframe\">\n",
              "  <thead>\n",
              "    <tr style=\"text-align: right;\">\n",
              "      <th></th>\n",
              "      <th>Consumption</th>\n",
              "    </tr>\n",
              "    <tr>\n",
              "      <th>Date</th>\n",
              "      <th></th>\n",
              "    </tr>\n",
              "  </thead>\n",
              "  <tbody>\n",
              "    <tr>\n",
              "      <th>2006-01-01</th>\n",
              "      <td>1069.18400</td>\n",
              "    </tr>\n",
              "    <tr>\n",
              "      <th>2006-01-02</th>\n",
              "      <td>1380.52100</td>\n",
              "    </tr>\n",
              "    <tr>\n",
              "      <th>2006-01-03</th>\n",
              "      <td>1442.53300</td>\n",
              "    </tr>\n",
              "    <tr>\n",
              "      <th>2006-01-04</th>\n",
              "      <td>1457.21700</td>\n",
              "    </tr>\n",
              "    <tr>\n",
              "      <th>2006-01-05</th>\n",
              "      <td>1477.13100</td>\n",
              "    </tr>\n",
              "    <tr>\n",
              "      <th>...</th>\n",
              "      <td>...</td>\n",
              "    </tr>\n",
              "    <tr>\n",
              "      <th>2017-12-27</th>\n",
              "      <td>1263.94091</td>\n",
              "    </tr>\n",
              "    <tr>\n",
              "      <th>2017-12-28</th>\n",
              "      <td>1299.86398</td>\n",
              "    </tr>\n",
              "    <tr>\n",
              "      <th>2017-12-29</th>\n",
              "      <td>1295.08753</td>\n",
              "    </tr>\n",
              "    <tr>\n",
              "      <th>2017-12-30</th>\n",
              "      <td>1215.44897</td>\n",
              "    </tr>\n",
              "    <tr>\n",
              "      <th>2017-12-31</th>\n",
              "      <td>1107.11488</td>\n",
              "    </tr>\n",
              "  </tbody>\n",
              "</table>\n",
              "<p>4383 rows × 1 columns</p>\n",
              "</div>"
            ],
            "text/plain": [
              "            Consumption\n",
              "Date                   \n",
              "2006-01-01   1069.18400\n",
              "2006-01-02   1380.52100\n",
              "2006-01-03   1442.53300\n",
              "2006-01-04   1457.21700\n",
              "2006-01-05   1477.13100\n",
              "...                 ...\n",
              "2017-12-27   1263.94091\n",
              "2017-12-28   1299.86398\n",
              "2017-12-29   1295.08753\n",
              "2017-12-30   1215.44897\n",
              "2017-12-31   1107.11488\n",
              "\n",
              "[4383 rows x 1 columns]"
            ]
          },
          "metadata": {},
          "execution_count": 7
        }
      ]
    },
    {
      "cell_type": "code",
      "metadata": {
        "colab": {
          "base_uri": "https://localhost:8080/",
          "height": 497
        },
        "id": "b64bWiQ4nKeX",
        "outputId": "ad98d423-f8dd-440b-92c2-dc3bc090ed80"
      },
      "source": [
        "plt.figure(figsize=(18, 8))\n",
        "plt.plot(df['Consumption'])\n",
        "plt.xlabel('Time')\n",
        "plt.ylabel('electricity_consumption')\n",
        "plt.grid(False)\n",
        "plt.show()"
      ],
      "execution_count": null,
      "outputs": [
        {
          "output_type": "display_data",
          "data": {
            "image/png": "[encoded data removed]",
            "text/plain": [
              "<Figure size 1296x576 with 1 Axes>"
            ]
          },
          "metadata": {
            "needs_background": "light"
          }
        }
      ]
    },
    {
      "cell_type": "code",
      "metadata": {
        "colab": {
          "base_uri": "https://localhost:8080/"
        },
        "id": "2iW7aZOknNdy",
        "outputId": "7e5932c9-df76-4334-eb63-5668a52fe5bb"
      },
      "source": [
        "df = df.values\n",
        "df"
      ],
      "execution_count": null,
      "outputs": [
        {
          "output_type": "execute_result",
          "data": {
            "text/plain": [
              "array([[1069.184  ],\n",
              "       [1380.521  ],\n",
              "       [1442.533  ],\n",
              "       ...,\n",
              "       [1295.08753],\n",
              "       [1215.44897],\n",
              "       [1107.11488]])"
            ]
          },
          "metadata": {},
          "execution_count": 9
        }
      ]
    },
    {
      "cell_type": "code",
      "metadata": {
        "colab": {
          "base_uri": "https://localhost:8080/"
        },
        "id": "b2JpG8MNnTFZ",
        "outputId": "023cb557-11e4-44bd-f42d-2e194be415b7"
      },
      "source": [
        "training_len = int(np.ceil(len(df)*.80))\n",
        "training_len "
      ],
      "execution_count": null,
      "outputs": [
        {
          "output_type": "execute_result",
          "data": {
            "text/plain": [
              "3507"
            ]
          },
          "metadata": {},
          "execution_count": 10
        }
      ]
    },
    {
      "cell_type": "code",
      "metadata": {
        "colab": {
          "base_uri": "https://localhost:8080/"
        },
        "id": "cDlYqnIVnWDu",
        "outputId": "a4193e49-357d-4cbf-d633-9a44d65ef25e"
      },
      "source": [
        "scaler = StandardScaler()\n",
        "scaled_data = scaler.fit_transform(df)\n",
        "scaled_data"
      ],
      "execution_count": null,
      "outputs": [
        {
          "output_type": "execute_result",
          "data": {
            "text/plain": [
              "array([[-1.62582675],\n",
              "       [ 0.25244916],\n",
              "       [ 0.62656353],\n",
              "       ...,\n",
              "       [-0.26296542],\n",
              "       [-0.74341968],\n",
              "       [-1.39699221]])"
            ]
          },
          "metadata": {},
          "execution_count": 11
        }
      ]
    },
    {
      "cell_type": "code",
      "metadata": {
        "id": "YDlKf4a6nchi"
      },
      "source": [
        "train_data = scaled_data[0:int(training_len), :]\n",
        "X_train = []\n",
        "y_train = []\n",
        "\n",
        "for i in range(30, len(train_data)):\n",
        "    X_train.append(train_data[i-30:i, 0])\n",
        "    y_train.append(train_data[i, 0])"
      ],
      "execution_count": null,
      "outputs": []
    },
    {
      "cell_type": "code",
      "metadata": {
        "colab": {
          "base_uri": "https://localhost:8080/"
        },
        "id": "K-nyFH34noPC",
        "outputId": "0cfaf8d5-46d3-4034-f53f-10ebdc86693d"
      },
      "source": [
        "X_train, y_train = np.array(X_train), np.array(y_train)\n",
        "X_train"
      ],
      "execution_count": null,
      "outputs": [
        {
          "output_type": "execute_result",
          "data": {
            "text/plain": [
              "array([[-1.62582675,  0.25244916,  0.62656353, ...,  0.20725644,\n",
              "        -0.52161261,  1.30339248],\n",
              "       [ 0.25244916,  0.62656353,  0.71515115, ..., -0.52161261,\n",
              "         1.30339248,  1.42650659],\n",
              "       [ 0.62656353,  0.71515115,  0.83529102, ...,  1.30339248,\n",
              "         1.42650659,  1.4687673 ],\n",
              "       ...,\n",
              "       [ 0.70172787,  0.57786568,  0.46474211, ...,  0.09191879,\n",
              "         0.28212517,  0.17979452],\n",
              "       [ 0.57786568,  0.46474211,  0.25115208, ...,  0.28212517,\n",
              "         0.17979452,  0.30808489],\n",
              "       [ 0.46474211,  0.25115208, -1.04175417, ...,  0.17979452,\n",
              "         0.30808489,  0.14698139]])"
            ]
          },
          "metadata": {},
          "execution_count": 13
        }
      ]
    },
    {
      "cell_type": "code",
      "metadata": {
        "colab": {
          "base_uri": "https://localhost:8080/"
        },
        "id": "i1emNXKznpqb",
        "outputId": "30395dff-a713-4682-a57c-20c02d4b6ec3"
      },
      "source": [
        "X_train = np.reshape(X_train, (X_train.shape[0], X_train.shape[1], 1))\n",
        "X_train"
      ],
      "execution_count": null,
      "outputs": [
        {
          "output_type": "execute_result",
          "data": {
            "text/plain": [
              "array([[[-1.62582675],\n",
              "        [ 0.25244916],\n",
              "        [ 0.62656353],\n",
              "        ...,\n",
              "        [ 0.20725644],\n",
              "        [-0.52161261],\n",
              "        [ 1.30339248]],\n",
              "\n",
              "       [[ 0.25244916],\n",
              "        [ 0.62656353],\n",
              "        [ 0.71515115],\n",
              "        ...,\n",
              "        [-0.52161261],\n",
              "        [ 1.30339248],\n",
              "        [ 1.42650659]],\n",
              "\n",
              "       [[ 0.62656353],\n",
              "        [ 0.71515115],\n",
              "        [ 0.83529102],\n",
              "        ...,\n",
              "        [ 1.30339248],\n",
              "        [ 1.42650659],\n",
              "        [ 1.4687673 ]],\n",
              "\n",
              "       ...,\n",
              "\n",
              "       [[ 0.70172787],\n",
              "        [ 0.57786568],\n",
              "        [ 0.46474211],\n",
              "        ...,\n",
              "        [ 0.09191879],\n",
              "        [ 0.28212517],\n",
              "        [ 0.17979452]],\n",
              "\n",
              "       [[ 0.57786568],\n",
              "        [ 0.46474211],\n",
              "        [ 0.25115208],\n",
              "        ...,\n",
              "        [ 0.28212517],\n",
              "        [ 0.17979452],\n",
              "        [ 0.30808489]],\n",
              "\n",
              "       [[ 0.46474211],\n",
              "        [ 0.25115208],\n",
              "        [-1.04175417],\n",
              "        ...,\n",
              "        [ 0.17979452],\n",
              "        [ 0.30808489],\n",
              "        [ 0.14698139]]])"
            ]
          },
          "metadata": {},
          "execution_count": 14
        }
      ]
    },
    {
      "cell_type": "code",
      "metadata": {
        "colab": {
          "base_uri": "https://localhost:8080/"
        },
        "id": "ei_mrVZ5ntRh",
        "outputId": "be078296-7f42-47bc-86e5-2ae9672dd847"
      },
      "source": [
        "model = tf.keras.models.Sequential([\n",
        "  LMU(memory_d=1, order=256, theta=784, hidden_cell=tf.keras.layers.SimpleRNNCell(units=10)),\n",
        "  tf.keras.layers.Dense(30, activation=\"relu\"),\n",
        "  tf.keras.layers.Dense(10, activation=\"relu\"),\n",
        "  tf.keras.layers.Dense(1),\n",
        "])\n",
        "\n",
        "lr_schedule = tf.keras.callbacks.LearningRateScheduler(\n",
        "    lambda epoch: 1e-6 * 10**(epoch / 20))\n",
        "optimizer = tf.keras.optimizers.SGD(lr=1e-6, momentum=0.9)\n",
        "model.compile(loss=tf.keras.losses.Huber(),\n",
        "              optimizer=optimizer,\n",
        "              metrics=[\"mae\"])\n",
        "history = model.fit(X_train, y_train, epochs=100, callbacks=[lr_schedule])"
      ],
      "execution_count": null,
      "outputs": [
        {
          "output_type": "stream",
          "name": "stderr",
          "text": [
            "/usr/local/lib/python3.7/dist-packages/keras/optimizer_v2/gradient_descent.py:102: UserWarning: The `lr` argument is deprecated, use `learning_rate` instead.\n",
            "  super(SGD, self).__init__(name, **kwargs)\n"
          ]
        },
        {
          "output_type": "stream",
          "name": "stdout",
          "text": [
            "Epoch 1/100\n",
            "109/109 [==============================] - 14s 60ms/step - loss: 0.4199 - mae: 0.7946 - lr: 1.0000e-06\n",
            "Epoch 2/100\n",
            "109/109 [==============================] - 7s 60ms/step - loss: 0.4199 - mae: 0.7946 - lr: 1.1220e-06\n",
            "Epoch 3/100\n",
            "109/109 [==============================] - 6s 59ms/step - loss: 0.4198 - mae: 0.7944 - lr: 1.2589e-06\n",
            "Epoch 4/100\n",
            "109/109 [==============================] - 7s 64ms/step - loss: 0.4197 - mae: 0.7943 - lr: 1.4125e-06\n",
            "Epoch 5/100\n",
            "109/109 [==============================] - 7s 62ms/step - loss: 0.4196 - mae: 0.7942 - lr: 1.5849e-06\n",
            "Epoch 6/100\n",
            "109/109 [==============================] - 7s 61ms/step - loss: 0.4194 - mae: 0.7940 - lr: 1.7783e-06\n",
            "Epoch 7/100\n",
            "109/109 [==============================] - 7s 63ms/step - loss: 0.4193 - mae: 0.7938 - lr: 1.9953e-06\n",
            "Epoch 8/100\n",
            "109/109 [==============================] - 7s 63ms/step - loss: 0.4191 - mae: 0.7936 - lr: 2.2387e-06\n",
            "Epoch 9/100\n",
            "109/109 [==============================] - 7s 63ms/step - loss: 0.4189 - mae: 0.7934 - lr: 2.5119e-06\n",
            "Epoch 10/100\n",
            "109/109 [==============================] - 7s 63ms/step - loss: 0.4187 - mae: 0.7931 - lr: 2.8184e-06\n",
            "Epoch 11/100\n",
            "109/109 [==============================] - 7s 64ms/step - loss: 0.4184 - mae: 0.7927 - lr: 3.1623e-06\n",
            "Epoch 12/100\n",
            "109/109 [==============================] - 7s 62ms/step - loss: 0.4181 - mae: 0.7923 - lr: 3.5481e-06\n",
            "Epoch 13/100\n",
            "109/109 [==============================] - 7s 63ms/step - loss: 0.4177 - mae: 0.7919 - lr: 3.9811e-06\n",
            "Epoch 14/100\n",
            "109/109 [==============================] - 7s 62ms/step - loss: 0.4174 - mae: 0.7914 - lr: 4.4668e-06\n",
            "Epoch 15/100\n",
            "109/109 [==============================] - 7s 63ms/step - loss: 0.4169 - mae: 0.7909 - lr: 5.0119e-06\n",
            "Epoch 16/100\n",
            "109/109 [==============================] - 7s 61ms/step - loss: 0.4165 - mae: 0.7903 - lr: 5.6234e-06\n",
            "Epoch 17/100\n",
            "109/109 [==============================] - 7s 61ms/step - loss: 0.4159 - mae: 0.7896 - lr: 6.3096e-06\n",
            "Epoch 18/100\n",
            "109/109 [==============================] - 6s 59ms/step - loss: 0.4153 - mae: 0.7888 - lr: 7.0795e-06\n",
            "Epoch 19/100\n",
            "109/109 [==============================] - 7s 61ms/step - loss: 0.4146 - mae: 0.7880 - lr: 7.9433e-06\n",
            "Epoch 20/100\n",
            "109/109 [==============================] - 7s 61ms/step - loss: 0.4138 - mae: 0.7870 - lr: 8.9125e-06\n",
            "Epoch 21/100\n",
            "109/109 [==============================] - 7s 61ms/step - loss: 0.4129 - mae: 0.7858 - lr: 1.0000e-05\n",
            "Epoch 22/100\n",
            "109/109 [==============================] - 7s 60ms/step - loss: 0.4119 - mae: 0.7845 - lr: 1.1220e-05\n",
            "Epoch 23/100\n",
            "109/109 [==============================] - 6s 59ms/step - loss: 0.4107 - mae: 0.7830 - lr: 1.2589e-05\n",
            "Epoch 24/100\n",
            "109/109 [==============================] - 7s 60ms/step - loss: 0.4094 - mae: 0.7813 - lr: 1.4125e-05\n",
            "Epoch 25/100\n",
            "109/109 [==============================] - 6s 59ms/step - loss: 0.4078 - mae: 0.7793 - lr: 1.5849e-05\n",
            "Epoch 26/100\n",
            "109/109 [==============================] - 6s 60ms/step - loss: 0.4060 - mae: 0.7771 - lr: 1.7783e-05\n",
            "Epoch 27/100\n",
            "109/109 [==============================] - 7s 62ms/step - loss: 0.4040 - mae: 0.7744 - lr: 1.9953e-05\n",
            "Epoch 28/100\n",
            "109/109 [==============================] - 7s 63ms/step - loss: 0.4017 - mae: 0.7714 - lr: 2.2387e-05\n",
            "Epoch 29/100\n",
            "109/109 [==============================] - 7s 61ms/step - loss: 0.3991 - mae: 0.7681 - lr: 2.5119e-05\n",
            "Epoch 30/100\n",
            "109/109 [==============================] - 7s 61ms/step - loss: 0.3963 - mae: 0.7645 - lr: 2.8184e-05\n",
            "Epoch 31/100\n",
            "109/109 [==============================] - 7s 60ms/step - loss: 0.3933 - mae: 0.7605 - lr: 3.1623e-05\n",
            "Epoch 32/100\n",
            "109/109 [==============================] - 7s 61ms/step - loss: 0.3900 - mae: 0.7563 - lr: 3.5481e-05\n",
            "Epoch 33/100\n",
            "109/109 [==============================] - 7s 60ms/step - loss: 0.3864 - mae: 0.7518 - lr: 3.9811e-05\n",
            "Epoch 34/100\n",
            "109/109 [==============================] - 7s 62ms/step - loss: 0.3825 - mae: 0.7468 - lr: 4.4668e-05\n",
            "Epoch 35/100\n",
            "109/109 [==============================] - 7s 62ms/step - loss: 0.3782 - mae: 0.7415 - lr: 5.0119e-05\n",
            "Epoch 36/100\n",
            "109/109 [==============================] - 7s 61ms/step - loss: 0.3732 - mae: 0.7353 - lr: 5.6234e-05\n",
            "Epoch 37/100\n",
            "109/109 [==============================] - 7s 63ms/step - loss: 0.3675 - mae: 0.7284 - lr: 6.3096e-05\n",
            "Epoch 38/100\n",
            "109/109 [==============================] - 7s 61ms/step - loss: 0.3609 - mae: 0.7203 - lr: 7.0795e-05\n",
            "Epoch 39/100\n",
            "109/109 [==============================] - 7s 62ms/step - loss: 0.3529 - mae: 0.7106 - lr: 7.9433e-05\n",
            "Epoch 40/100\n",
            "109/109 [==============================] - 7s 62ms/step - loss: 0.3433 - mae: 0.6986 - lr: 8.9125e-05\n",
            "Epoch 41/100\n",
            "109/109 [==============================] - 7s 61ms/step - loss: 0.3317 - mae: 0.6843 - lr: 1.0000e-04\n",
            "Epoch 42/100\n",
            "109/109 [==============================] - 7s 62ms/step - loss: 0.3182 - mae: 0.6676 - lr: 1.1220e-04\n",
            "Epoch 43/100\n",
            "109/109 [==============================] - 7s 62ms/step - loss: 0.3028 - mae: 0.6481 - lr: 1.2589e-04\n",
            "Epoch 44/100\n",
            "109/109 [==============================] - 7s 61ms/step - loss: 0.2857 - mae: 0.6258 - lr: 1.4125e-04\n",
            "Epoch 45/100\n",
            "109/109 [==============================] - 7s 60ms/step - loss: 0.2669 - mae: 0.6008 - lr: 1.5849e-04\n",
            "Epoch 46/100\n",
            "109/109 [==============================] - 7s 61ms/step - loss: 0.2463 - mae: 0.5720 - lr: 1.7783e-04\n",
            "Epoch 47/100\n",
            "109/109 [==============================] - 7s 62ms/step - loss: 0.2253 - mae: 0.5407 - lr: 1.9953e-04\n",
            "Epoch 48/100\n",
            "109/109 [==============================] - 6s 58ms/step - loss: 0.2049 - mae: 0.5086 - lr: 2.2387e-04\n",
            "Epoch 49/100\n",
            "109/109 [==============================] - 6s 59ms/step - loss: 0.1860 - mae: 0.4749 - lr: 2.5119e-04\n",
            "Epoch 50/100\n",
            "109/109 [==============================] - 7s 61ms/step - loss: 0.1704 - mae: 0.4458 - lr: 2.8184e-04\n",
            "Epoch 51/100\n",
            "109/109 [==============================] - 7s 61ms/step - loss: 0.1597 - mae: 0.4247 - lr: 3.1623e-04\n",
            "Epoch 52/100\n",
            "109/109 [==============================] - 6s 59ms/step - loss: 0.1522 - mae: 0.4095 - lr: 3.5481e-04\n",
            "Epoch 53/100\n",
            "109/109 [==============================] - 7s 62ms/step - loss: 0.1441 - mae: 0.3939 - lr: 3.9811e-04\n",
            "Epoch 54/100\n",
            "109/109 [==============================] - 7s 61ms/step - loss: 0.1368 - mae: 0.3798 - lr: 4.4668e-04\n",
            "Epoch 55/100\n",
            "109/109 [==============================] - 7s 60ms/step - loss: 0.1298 - mae: 0.3664 - lr: 5.0119e-04\n",
            "Epoch 56/100\n",
            "109/109 [==============================] - 7s 60ms/step - loss: 0.1233 - mae: 0.3526 - lr: 5.6234e-04\n",
            "Epoch 57/100\n",
            "109/109 [==============================] - 7s 62ms/step - loss: 0.1178 - mae: 0.3412 - lr: 6.3096e-04\n",
            "Epoch 58/100\n",
            "109/109 [==============================] - 7s 61ms/step - loss: 0.1128 - mae: 0.3317 - lr: 7.0795e-04\n",
            "Epoch 59/100\n",
            "109/109 [==============================] - 7s 62ms/step - loss: 0.1077 - mae: 0.3211 - lr: 7.9433e-04\n",
            "Epoch 60/100\n",
            "109/109 [==============================] - 6s 59ms/step - loss: 0.1029 - mae: 0.3125 - lr: 8.9125e-04\n",
            "Epoch 61/100\n",
            "109/109 [==============================] - 7s 61ms/step - loss: 0.0981 - mae: 0.3014 - lr: 0.0010\n",
            "Epoch 62/100\n",
            "109/109 [==============================] - 7s 62ms/step - loss: 0.0933 - mae: 0.2916 - lr: 0.0011\n",
            "Epoch 63/100\n",
            "109/109 [==============================] - 7s 62ms/step - loss: 0.0889 - mae: 0.2838 - lr: 0.0013\n",
            "Epoch 64/100\n",
            "109/109 [==============================] - 7s 60ms/step - loss: 0.0853 - mae: 0.2772 - lr: 0.0014\n",
            "Epoch 65/100\n",
            "109/109 [==============================] - 7s 62ms/step - loss: 0.0818 - mae: 0.2695 - lr: 0.0016\n",
            "Epoch 66/100\n",
            "109/109 [==============================] - 7s 63ms/step - loss: 0.0789 - mae: 0.2647 - lr: 0.0018\n",
            "Epoch 67/100\n",
            "109/109 [==============================] - 7s 61ms/step - loss: 0.0754 - mae: 0.2568 - lr: 0.0020\n",
            "Epoch 68/100\n",
            "109/109 [==============================] - 7s 61ms/step - loss: 0.0730 - mae: 0.2511 - lr: 0.0022\n",
            "Epoch 69/100\n",
            "109/109 [==============================] - 7s 60ms/step - loss: 0.0704 - mae: 0.2449 - lr: 0.0025\n",
            "Epoch 70/100\n",
            "109/109 [==============================] - 7s 60ms/step - loss: 0.0680 - mae: 0.2390 - lr: 0.0028\n",
            "Epoch 71/100\n",
            "109/109 [==============================] - 7s 63ms/step - loss: 0.0645 - mae: 0.2308 - lr: 0.0032\n",
            "Epoch 72/100\n",
            "109/109 [==============================] - 7s 62ms/step - loss: 0.0616 - mae: 0.2233 - lr: 0.0035\n",
            "Epoch 73/100\n",
            "109/109 [==============================] - 7s 62ms/step - loss: 0.0592 - mae: 0.2187 - lr: 0.0040\n",
            "Epoch 74/100\n",
            "109/109 [==============================] - 7s 62ms/step - loss: 0.0574 - mae: 0.2153 - lr: 0.0045\n",
            "Epoch 75/100\n",
            "109/109 [==============================] - 7s 61ms/step - loss: 0.0563 - mae: 0.2124 - lr: 0.0050\n",
            "Epoch 76/100\n",
            "109/109 [==============================] - 7s 62ms/step - loss: 0.0546 - mae: 0.2112 - lr: 0.0056\n",
            "Epoch 77/100\n",
            "109/109 [==============================] - 7s 62ms/step - loss: 0.0525 - mae: 0.2053 - lr: 0.0063\n",
            "Epoch 78/100\n",
            "109/109 [==============================] - 7s 61ms/step - loss: 0.0528 - mae: 0.2069 - lr: 0.0071\n",
            "Epoch 79/100\n",
            "109/109 [==============================] - 7s 63ms/step - loss: 0.0520 - mae: 0.2041 - lr: 0.0079\n",
            "Epoch 80/100\n",
            "109/109 [==============================] - 7s 62ms/step - loss: 0.0514 - mae: 0.2063 - lr: 0.0089\n",
            "Epoch 81/100\n",
            "109/109 [==============================] - 7s 61ms/step - loss: 0.0494 - mae: 0.2000 - lr: 0.0100\n",
            "Epoch 82/100\n",
            "109/109 [==============================] - 7s 63ms/step - loss: 0.0496 - mae: 0.2030 - lr: 0.0112\n",
            "Epoch 83/100\n",
            "109/109 [==============================] - 7s 62ms/step - loss: 0.0499 - mae: 0.2026 - lr: 0.0126\n",
            "Epoch 84/100\n",
            "109/109 [==============================] - 7s 60ms/step - loss: 0.0502 - mae: 0.2070 - lr: 0.0141\n",
            "Epoch 85/100\n",
            "109/109 [==============================] - 7s 61ms/step - loss: 0.0469 - mae: 0.1967 - lr: 0.0158\n",
            "Epoch 86/100\n",
            "109/109 [==============================] - 7s 60ms/step - loss: 0.0474 - mae: 0.2013 - lr: 0.0178\n",
            "Epoch 87/100\n",
            "109/109 [==============================] - 7s 61ms/step - loss: 0.0487 - mae: 0.2061 - lr: 0.0200\n",
            "Epoch 88/100\n",
            "109/109 [==============================] - 7s 60ms/step - loss: 0.0455 - mae: 0.1967 - lr: 0.0224\n",
            "Epoch 89/100\n",
            "109/109 [==============================] - 7s 61ms/step - loss: 0.0473 - mae: 0.2030 - lr: 0.0251\n",
            "Epoch 90/100\n",
            "109/109 [==============================] - 6s 59ms/step - loss: 0.0443 - mae: 0.1925 - lr: 0.0282\n",
            "Epoch 91/100\n",
            "109/109 [==============================] - 7s 61ms/step - loss: 0.0440 - mae: 0.1916 - lr: 0.0316\n",
            "Epoch 92/100\n",
            "109/109 [==============================] - 7s 60ms/step - loss: 0.0456 - mae: 0.1978 - lr: 0.0355\n",
            "Epoch 93/100\n",
            "109/109 [==============================] - 7s 61ms/step - loss: 0.0454 - mae: 0.1979 - lr: 0.0398\n",
            "Epoch 94/100\n",
            "109/109 [==============================] - 7s 60ms/step - loss: 0.0434 - mae: 0.1934 - lr: 0.0447\n",
            "Epoch 95/100\n",
            "109/109 [==============================] - 6s 59ms/step - loss: 0.0425 - mae: 0.1920 - lr: 0.0501\n",
            "Epoch 96/100\n",
            "109/109 [==============================] - 6s 59ms/step - loss: 0.0444 - mae: 0.1948 - lr: 0.0562\n",
            "Epoch 97/100\n",
            "109/109 [==============================] - 7s 60ms/step - loss: 0.0453 - mae: 0.2019 - lr: 0.0631\n",
            "Epoch 98/100\n",
            "109/109 [==============================] - 7s 61ms/step - loss: 0.0441 - mae: 0.1948 - lr: 0.0708\n",
            "Epoch 99/100\n",
            "109/109 [==============================] - 7s 62ms/step - loss: 0.0565 - mae: 0.2277 - lr: 0.0794\n",
            "Epoch 100/100\n",
            "109/109 [==============================] - 6s 59ms/step - loss: 0.0435 - mae: 0.1931 - lr: 0.0891\n"
          ]
        }
      ]
    },
    {
      "cell_type": "code",
      "metadata": {
        "colab": {
          "base_uri": "https://localhost:8080/"
        },
        "id": "pl_8aCY4ooa8",
        "outputId": "a9d99d75-d59a-4853-c31d-a08b5111896e"
      },
      "source": [
        "scaled_data_test = scaler.transform(df)\n",
        "scaled_data_test"
      ],
      "execution_count": null,
      "outputs": [
        {
          "output_type": "execute_result",
          "data": {
            "text/plain": [
              "array([[-1.62582675],\n",
              "       [ 0.25244916],\n",
              "       [ 0.62656353],\n",
              "       ...,\n",
              "       [-0.26296542],\n",
              "       [-0.74341968],\n",
              "       [-1.39699221]])"
            ]
          },
          "metadata": {},
          "execution_count": 16
        }
      ]
    },
    {
      "cell_type": "code",
      "metadata": {
        "id": "zgoGUvXUuAuL"
      },
      "source": [
        "test_data = scaled_data_test\n",
        "X_test = []\n",
        "y_test = df[30:, :]\n",
        "for i in range(30, len(test_data)):\n",
        "    X_test.append(test_data[i-30:i, 0])"
      ],
      "execution_count": null,
      "outputs": []
    },
    {
      "cell_type": "code",
      "metadata": {
        "id": "D4OgXLEau0Vi"
      },
      "source": [
        "X_test = np.array(X_test)\n",
        "X_test = np.reshape(X_test, (X_test.shape[0], X_test.shape[1], 1 ))"
      ],
      "execution_count": null,
      "outputs": []
    },
    {
      "cell_type": "code",
      "metadata": {
        "id": "DzzKGQtfu33X"
      },
      "source": [
        "predictions = model.predict(X_test)"
      ],
      "execution_count": null,
      "outputs": []
    },
    {
      "cell_type": "code",
      "metadata": {
        "id": "5QcoFhLPu_l_"
      },
      "source": [
        "predictions = scaler.inverse_transform(predictions)"
      ],
      "execution_count": null,
      "outputs": []
    },
    {
      "cell_type": "code",
      "metadata": {
        "colab": {
          "base_uri": "https://localhost:8080/",
          "height": 112
        },
        "id": "FAUeYP4BvB9j",
        "outputId": "88553959-b5ec-4523-eb9e-b17741ef3be5"
      },
      "source": [
        "var=explained_variance_score(y_test, predictions) \n",
        "\n",
        "mae=mean_absolute_error(y_test, predictions)\n",
        "mse=mean_squared_error (y_test, predictions)\n",
        "rmse=np.sqrt(mse)\n",
        "r2=r2_score(y_test,predictions)  \n",
        "metric=[var,mae,mse,rmse,r2]\n",
        "evaluate=['Explained variance','MAE','MSE','RMSE','R^2']\n",
        "performance_evaluate=pd.DataFrame([evaluate,metric])\n",
        "performance_evaluate"
      ],
      "execution_count": null,
      "outputs": [
        {
          "output_type": "execute_result",
          "data": {
            "text/html": [
              "<div>\n",
              "<style scoped>\n",
              "    .dataframe tbody tr th:only-of-type {\n",
              "        vertical-align: middle;\n",
              "    }\n",
              "\n",
              "    .dataframe tbody tr th {\n",
              "        vertical-align: top;\n",
              "    }\n",
              "\n",
              "    .dataframe thead th {\n",
              "        text-align: right;\n",
              "    }\n",
              "</style>\n",
              "<table border=\"1\" class=\"dataframe\">\n",
              "  <thead>\n",
              "    <tr style=\"text-align: right;\">\n",
              "      <th></th>\n",
              "      <th>0</th>\n",
              "      <th>1</th>\n",
              "      <th>2</th>\n",
              "      <th>3</th>\n",
              "      <th>4</th>\n",
              "    </tr>\n",
              "  </thead>\n",
              "  <tbody>\n",
              "    <tr>\n",
              "      <th>0</th>\n",
              "      <td>Explained variance</td>\n",
              "      <td>MAE</td>\n",
              "      <td>MSE</td>\n",
              "      <td>RMSE</td>\n",
              "      <td>R^2</td>\n",
              "    </tr>\n",
              "    <tr>\n",
              "      <th>1</th>\n",
              "      <td>0.918681</td>\n",
              "      <td>27.694</td>\n",
              "      <td>2230.56</td>\n",
              "      <td>47.2288</td>\n",
              "      <td>0.918667</td>\n",
              "    </tr>\n",
              "  </tbody>\n",
              "</table>\n",
              "</div>"
            ],
            "text/plain": [
              "                    0       1        2        3         4\n",
              "0  Explained variance     MAE      MSE     RMSE       R^2\n",
              "1            0.918681  27.694  2230.56  47.2288  0.918667"
            ]
          },
          "metadata": {},
          "execution_count": 21
        }
      ]
    },
    {
      "cell_type": "code",
      "metadata": {
        "colab": {
          "base_uri": "https://localhost:8080/",
          "height": 388
        },
        "id": "csg9_wH-vG_L",
        "outputId": "c50ebf55-b9c5-4d11-8ae9-6d772cd0753a"
      },
      "source": [
        "plt.figure(figsize=(14,6))\n",
        "plt.plot(history.history[\"loss\"], label=\"loss\")\n",
        "plt.xlabel(\"Epoch\")\n",
        "plt.ylabel(\"Loss\")\n",
        "plt.legend()\n",
        "plt.show()"
      ],
      "execution_count": null,
      "outputs": [
        {
          "output_type": "display_data",
          "data": {
            "image/png": "[encoded data removed]",
            "text/plain": [
              "<Figure size 1008x432 with 1 Axes>"
            ]
          },
          "metadata": {
            "needs_background": "light"
          }
        }
      ]
    },
    {
      "cell_type": "code",
      "metadata": {
        "colab": {
          "base_uri": "https://localhost:8080/",
          "height": 424
        },
        "id": "nJ_FTrZ-vv8A",
        "outputId": "75e0cb99-086c-4efc-e0e4-bc4e5c28ca19"
      },
      "source": [
        "train = df[:training_len]\n",
        "valid = df[30:]\n",
        "valid = pd.DataFrame(predictions)\n",
        "valid.columns=['Predictions']\n",
        "valid"
      ],
      "execution_count": null,
      "outputs": [
        {
          "output_type": "execute_result",
          "data": {
            "text/html": [
              "<div>\n",
              "<style scoped>\n",
              "    .dataframe tbody tr th:only-of-type {\n",
              "        vertical-align: middle;\n",
              "    }\n",
              "\n",
              "    .dataframe tbody tr th {\n",
              "        vertical-align: top;\n",
              "    }\n",
              "\n",
              "    .dataframe thead th {\n",
              "        text-align: right;\n",
              "    }\n",
              "</style>\n",
              "<table border=\"1\" class=\"dataframe\">\n",
              "  <thead>\n",
              "    <tr style=\"text-align: right;\">\n",
              "      <th></th>\n",
              "      <th>Predictions</th>\n",
              "    </tr>\n",
              "  </thead>\n",
              "  <tbody>\n",
              "    <tr>\n",
              "      <th>0</th>\n",
              "      <td>1572.864746</td>\n",
              "    </tr>\n",
              "    <tr>\n",
              "      <th>1</th>\n",
              "      <td>1579.691040</td>\n",
              "    </tr>\n",
              "    <tr>\n",
              "      <th>2</th>\n",
              "      <td>1577.078491</td>\n",
              "    </tr>\n",
              "    <tr>\n",
              "      <th>3</th>\n",
              "      <td>1547.386597</td>\n",
              "    </tr>\n",
              "    <tr>\n",
              "      <th>4</th>\n",
              "      <td>1342.611206</td>\n",
              "    </tr>\n",
              "    <tr>\n",
              "      <th>...</th>\n",
              "      <td>...</td>\n",
              "    </tr>\n",
              "    <tr>\n",
              "      <th>4348</th>\n",
              "      <td>1110.053101</td>\n",
              "    </tr>\n",
              "    <tr>\n",
              "      <th>4349</th>\n",
              "      <td>1254.509155</td>\n",
              "    </tr>\n",
              "    <tr>\n",
              "      <th>4350</th>\n",
              "      <td>1289.071411</td>\n",
              "    </tr>\n",
              "    <tr>\n",
              "      <th>4351</th>\n",
              "      <td>1195.744263</td>\n",
              "    </tr>\n",
              "    <tr>\n",
              "      <th>4352</th>\n",
              "      <td>1076.897461</td>\n",
              "    </tr>\n",
              "  </tbody>\n",
              "</table>\n",
              "<p>4353 rows × 1 columns</p>\n",
              "</div>"
            ],
            "text/plain": [
              "      Predictions\n",
              "0     1572.864746\n",
              "1     1579.691040\n",
              "2     1577.078491\n",
              "3     1547.386597\n",
              "4     1342.611206\n",
              "...           ...\n",
              "4348  1110.053101\n",
              "4349  1254.509155\n",
              "4350  1289.071411\n",
              "4351  1195.744263\n",
              "4352  1076.897461\n",
              "\n",
              "[4353 rows x 1 columns]"
            ]
          },
          "metadata": {},
          "execution_count": 23
        }
      ]
    },
    {
      "cell_type": "code",
      "metadata": {
        "colab": {
          "base_uri": "https://localhost:8080/",
          "height": 424
        },
        "id": "JgWGfg17v9DX",
        "outputId": "4f94333d-8887-4480-ab16-349e413d873e"
      },
      "source": [
        "df = pd.read_csv('opsd_germany_daily.csv')\n",
        "df"
      ],
      "execution_count": null,
      "outputs": [
        {
          "output_type": "execute_result",
          "data": {
            "text/html": [
              "<div>\n",
              "<style scoped>\n",
              "    .dataframe tbody tr th:only-of-type {\n",
              "        vertical-align: middle;\n",
              "    }\n",
              "\n",
              "    .dataframe tbody tr th {\n",
              "        vertical-align: top;\n",
              "    }\n",
              "\n",
              "    .dataframe thead th {\n",
              "        text-align: right;\n",
              "    }\n",
              "</style>\n",
              "<table border=\"1\" class=\"dataframe\">\n",
              "  <thead>\n",
              "    <tr style=\"text-align: right;\">\n",
              "      <th></th>\n",
              "      <th>Date</th>\n",
              "      <th>Consumption</th>\n",
              "      <th>Wind</th>\n",
              "      <th>Solar</th>\n",
              "      <th>Wind+Solar</th>\n",
              "    </tr>\n",
              "  </thead>\n",
              "  <tbody>\n",
              "    <tr>\n",
              "      <th>0</th>\n",
              "      <td>1/1/2006</td>\n",
              "      <td>1069.18400</td>\n",
              "      <td>NaN</td>\n",
              "      <td>NaN</td>\n",
              "      <td>NaN</td>\n",
              "    </tr>\n",
              "    <tr>\n",
              "      <th>1</th>\n",
              "      <td>1/2/2006</td>\n",
              "      <td>1380.52100</td>\n",
              "      <td>NaN</td>\n",
              "      <td>NaN</td>\n",
              "      <td>NaN</td>\n",
              "    </tr>\n",
              "    <tr>\n",
              "      <th>2</th>\n",
              "      <td>1/3/2006</td>\n",
              "      <td>1442.53300</td>\n",
              "      <td>NaN</td>\n",
              "      <td>NaN</td>\n",
              "      <td>NaN</td>\n",
              "    </tr>\n",
              "    <tr>\n",
              "      <th>3</th>\n",
              "      <td>1/4/2006</td>\n",
              "      <td>1457.21700</td>\n",
              "      <td>NaN</td>\n",
              "      <td>NaN</td>\n",
              "      <td>NaN</td>\n",
              "    </tr>\n",
              "    <tr>\n",
              "      <th>4</th>\n",
              "      <td>1/5/2006</td>\n",
              "      <td>1477.13100</td>\n",
              "      <td>NaN</td>\n",
              "      <td>NaN</td>\n",
              "      <td>NaN</td>\n",
              "    </tr>\n",
              "    <tr>\n",
              "      <th>...</th>\n",
              "      <td>...</td>\n",
              "      <td>...</td>\n",
              "      <td>...</td>\n",
              "      <td>...</td>\n",
              "      <td>...</td>\n",
              "    </tr>\n",
              "    <tr>\n",
              "      <th>4378</th>\n",
              "      <td>12/27/2017</td>\n",
              "      <td>1263.94091</td>\n",
              "      <td>394.507</td>\n",
              "      <td>16.530</td>\n",
              "      <td>411.037</td>\n",
              "    </tr>\n",
              "    <tr>\n",
              "      <th>4379</th>\n",
              "      <td>12/28/2017</td>\n",
              "      <td>1299.86398</td>\n",
              "      <td>506.424</td>\n",
              "      <td>14.162</td>\n",
              "      <td>520.586</td>\n",
              "    </tr>\n",
              "    <tr>\n",
              "      <th>4380</th>\n",
              "      <td>12/29/2017</td>\n",
              "      <td>1295.08753</td>\n",
              "      <td>584.277</td>\n",
              "      <td>29.854</td>\n",
              "      <td>614.131</td>\n",
              "    </tr>\n",
              "    <tr>\n",
              "      <th>4381</th>\n",
              "      <td>12/30/2017</td>\n",
              "      <td>1215.44897</td>\n",
              "      <td>721.247</td>\n",
              "      <td>7.467</td>\n",
              "      <td>728.714</td>\n",
              "    </tr>\n",
              "    <tr>\n",
              "      <th>4382</th>\n",
              "      <td>12/31/2017</td>\n",
              "      <td>1107.11488</td>\n",
              "      <td>721.176</td>\n",
              "      <td>19.980</td>\n",
              "      <td>741.156</td>\n",
              "    </tr>\n",
              "  </tbody>\n",
              "</table>\n",
              "<p>4383 rows × 5 columns</p>\n",
              "</div>"
            ],
            "text/plain": [
              "            Date  Consumption     Wind   Solar  Wind+Solar\n",
              "0       1/1/2006   1069.18400      NaN     NaN         NaN\n",
              "1       1/2/2006   1380.52100      NaN     NaN         NaN\n",
              "2       1/3/2006   1442.53300      NaN     NaN         NaN\n",
              "3       1/4/2006   1457.21700      NaN     NaN         NaN\n",
              "4       1/5/2006   1477.13100      NaN     NaN         NaN\n",
              "...          ...          ...      ...     ...         ...\n",
              "4378  12/27/2017   1263.94091  394.507  16.530     411.037\n",
              "4379  12/28/2017   1299.86398  506.424  14.162     520.586\n",
              "4380  12/29/2017   1295.08753  584.277  29.854     614.131\n",
              "4381  12/30/2017   1215.44897  721.247   7.467     728.714\n",
              "4382  12/31/2017   1107.11488  721.176  19.980     741.156\n",
              "\n",
              "[4383 rows x 5 columns]"
            ]
          },
          "metadata": {},
          "execution_count": 24
        }
      ]
    },
    {
      "cell_type": "code",
      "metadata": {
        "colab": {
          "base_uri": "https://localhost:8080/",
          "height": 542
        },
        "id": "_fzt-BaMwBKY",
        "outputId": "a1c1aa98-e226-4f05-962c-821152f3943f"
      },
      "source": [
        "df = df[['Date', 'Consumption']]\n",
        "df.set_index(df['Date'],inplace=True)\n",
        "df.drop(columns='Date', axis=1, inplace=True)\n",
        "df"
      ],
      "execution_count": null,
      "outputs": [
        {
          "output_type": "stream",
          "name": "stderr",
          "text": [
            "/usr/local/lib/python3.7/dist-packages/pandas/core/frame.py:4174: SettingWithCopyWarning: \n",
            "A value is trying to be set on a copy of a slice from a DataFrame\n",
            "\n",
            "See the caveats in the documentation: https://pandas.pydata.org/pandas-docs/stable/user_guide/indexing.html#returning-a-view-versus-a-copy\n",
            "  errors=errors,\n"
          ]
        },
        {
          "output_type": "execute_result",
          "data": {
            "text/html": [
              "<div>\n",
              "<style scoped>\n",
              "    .dataframe tbody tr th:only-of-type {\n",
              "        vertical-align: middle;\n",
              "    }\n",
              "\n",
              "    .dataframe tbody tr th {\n",
              "        vertical-align: top;\n",
              "    }\n",
              "\n",
              "    .dataframe thead th {\n",
              "        text-align: right;\n",
              "    }\n",
              "</style>\n",
              "<table border=\"1\" class=\"dataframe\">\n",
              "  <thead>\n",
              "    <tr style=\"text-align: right;\">\n",
              "      <th></th>\n",
              "      <th>Consumption</th>\n",
              "    </tr>\n",
              "    <tr>\n",
              "      <th>Date</th>\n",
              "      <th></th>\n",
              "    </tr>\n",
              "  </thead>\n",
              "  <tbody>\n",
              "    <tr>\n",
              "      <th>1/1/2006</th>\n",
              "      <td>1069.18400</td>\n",
              "    </tr>\n",
              "    <tr>\n",
              "      <th>1/2/2006</th>\n",
              "      <td>1380.52100</td>\n",
              "    </tr>\n",
              "    <tr>\n",
              "      <th>1/3/2006</th>\n",
              "      <td>1442.53300</td>\n",
              "    </tr>\n",
              "    <tr>\n",
              "      <th>1/4/2006</th>\n",
              "      <td>1457.21700</td>\n",
              "    </tr>\n",
              "    <tr>\n",
              "      <th>1/5/2006</th>\n",
              "      <td>1477.13100</td>\n",
              "    </tr>\n",
              "    <tr>\n",
              "      <th>...</th>\n",
              "      <td>...</td>\n",
              "    </tr>\n",
              "    <tr>\n",
              "      <th>12/27/2017</th>\n",
              "      <td>1263.94091</td>\n",
              "    </tr>\n",
              "    <tr>\n",
              "      <th>12/28/2017</th>\n",
              "      <td>1299.86398</td>\n",
              "    </tr>\n",
              "    <tr>\n",
              "      <th>12/29/2017</th>\n",
              "      <td>1295.08753</td>\n",
              "    </tr>\n",
              "    <tr>\n",
              "      <th>12/30/2017</th>\n",
              "      <td>1215.44897</td>\n",
              "    </tr>\n",
              "    <tr>\n",
              "      <th>12/31/2017</th>\n",
              "      <td>1107.11488</td>\n",
              "    </tr>\n",
              "  </tbody>\n",
              "</table>\n",
              "<p>4383 rows × 1 columns</p>\n",
              "</div>"
            ],
            "text/plain": [
              "            Consumption\n",
              "Date                   \n",
              "1/1/2006     1069.18400\n",
              "1/2/2006     1380.52100\n",
              "1/3/2006     1442.53300\n",
              "1/4/2006     1457.21700\n",
              "1/5/2006     1477.13100\n",
              "...                 ...\n",
              "12/27/2017   1263.94091\n",
              "12/28/2017   1299.86398\n",
              "12/29/2017   1295.08753\n",
              "12/30/2017   1215.44897\n",
              "12/31/2017   1107.11488\n",
              "\n",
              "[4383 rows x 1 columns]"
            ]
          },
          "metadata": {},
          "execution_count": 25
        }
      ]
    },
    {
      "cell_type": "code",
      "metadata": {
        "colab": {
          "base_uri": "https://localhost:8080/",
          "height": 483
        },
        "id": "kf2g6DocwLwT",
        "outputId": "2fd447a9-7338-4522-9be3-f1e0e9e374a3"
      },
      "source": [
        "plt.figure(figsize=(18,8))\n",
        "plt.plot(df['Consumption'], label=\"Training\", c = \"y\")\n",
        "plt.plot(valid['Predictions'], label=\"Predict\", c = \"r\")\n",
        "plt.legend()\n",
        "plt.show()"
      ],
      "execution_count": null,
      "outputs": [
        {
          "output_type": "display_data",
          "data": {
            "image/png": "[encoded data removed]",
            "text/plain": [
              "<Figure size 1296x576 with 1 Axes>"
            ]
          },
          "metadata": {
            "needs_background": "light"
          }
        }
      ]
    }
  ]
}